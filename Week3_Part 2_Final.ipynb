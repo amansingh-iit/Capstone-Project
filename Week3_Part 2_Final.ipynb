{
    "cells": [
        {
            "cell_type": "code",
            "execution_count": 5,
            "metadata": {},
            "outputs": [
                {
                    "name": "stdout",
                    "output_type": "stream",
                    "text": "Requirement already satisfied: wikipedia in /opt/conda/envs/Python36/lib/python3.6/site-packages (1.4.0)\r\nRequirement already satisfied: beautifulsoup4 in /opt/conda/envs/Python36/lib/python3.6/site-packages (from wikipedia) (4.7.1)\r\nRequirement already satisfied: requests<3.0.0,>=2.0.0 in /opt/conda/envs/Python36/lib/python3.6/site-packages (from wikipedia) (2.21.0)\r\nRequirement already satisfied: soupsieve>=1.2 in /opt/conda/envs/Python36/lib/python3.6/site-packages (from beautifulsoup4->wikipedia) (1.7.1)\r\nRequirement already satisfied: certifi>=2017.4.17 in /opt/conda/envs/Python36/lib/python3.6/site-packages (from requests<3.0.0,>=2.0.0->wikipedia) (2020.4.5.1)\r\nRequirement already satisfied: idna<2.9,>=2.5 in /opt/conda/envs/Python36/lib/python3.6/site-packages (from requests<3.0.0,>=2.0.0->wikipedia) (2.8)\r\nRequirement already satisfied: chardet<3.1.0,>=3.0.2 in /opt/conda/envs/Python36/lib/python3.6/site-packages (from requests<3.0.0,>=2.0.0->wikipedia) (3.0.4)\r\nRequirement already satisfied: urllib3<1.25,>=1.21.1 in /opt/conda/envs/Python36/lib/python3.6/site-packages (from requests<3.0.0,>=2.0.0->wikipedia) (1.24.1)\r\n"
                },
                {
                    "data": {
                        "text/plain": "(103, 3)"
                    },
                    "execution_count": 5,
                    "metadata": {},
                    "output_type": "execute_result"
                }
            ],
            "source": "import pandas as pd\n!pip install wikipedia\nimport wikipedia as wp\nimport numpy as np\nimport requests\nimport io\n\n# Start by creating a new Notebook for this assignment.\n# setup import\nimport pandas as pd \nimport wikipedia as wp\nfrom bs4 import BeautifulSoup\n\n# Get the table from wiki page\nhtml = wp.page(\"List of postal codes of Canada: M\").html().encode(\"UTF-8\")\n\n# Determine the index of your table\ndf = pd.read_html(html, header = 0)[0]\n\n# Only process the cells that have an assigned borough. Ignore cells with a borough that is Not assigned.\ndf = df[df.Borough != 'Not assigned']\ndf.head()\n\n# Merge rows with the same Post code\ndf = df.groupby([\"Postal Code\", \"Borough\"], as_index=False).agg(lambda x: \", \".join(x))\ndf.head()\n\n# If a cell has a borough but a Not assigned neighborhood, then the neighborhood will be the same as the borough.\nfor index, row in df.iterrows():\n    if row['Neighborhood'] == 'Not assigned':\n        row['Neighborhood'] = row['Borough']\ndf\ndf.shape"
        },
        {
            "cell_type": "code",
            "execution_count": 6,
            "metadata": {},
            "outputs": [
                {
                    "name": "stdout",
                    "output_type": "stream",
                    "text": "--2020-05-11 17:44:09--  http://cocl.us/Geospatial_data/\nResolving cocl.us (cocl.us)... 158.85.108.83, 158.85.108.86, 169.48.113.194\nConnecting to cocl.us (cocl.us)|158.85.108.83|:80... connected.\nHTTP request sent, awaiting response... 301 Moved Permanently\nLocation: https://cocl.us/Geospatial_data/ [following]\n--2020-05-11 17:44:10--  https://cocl.us/Geospatial_data/\nConnecting to cocl.us (cocl.us)|158.85.108.83|:443... connected.\nHTTP request sent, awaiting response... 301 Moved Permanently\nLocation: https://ibm.box.com/shared/static/9afzr83pps4pwf2smjjcf1y5mvgb18rr.csv [following]\n--2020-05-11 17:44:10--  https://ibm.box.com/shared/static/9afzr83pps4pwf2smjjcf1y5mvgb18rr.csv\nResolving ibm.box.com (ibm.box.com)... 107.152.26.197\nConnecting to ibm.box.com (ibm.box.com)|107.152.26.197|:443... connected.\nHTTP request sent, awaiting response... 301 Moved Permanently\nLocation: /public/static/9afzr83pps4pwf2smjjcf1y5mvgb18rr.csv [following]\n--2020-05-11 17:44:11--  https://ibm.box.com/public/static/9afzr83pps4pwf2smjjcf1y5mvgb18rr.csv\nReusing existing connection to ibm.box.com:443.\nHTTP request sent, awaiting response... 301 Moved Permanently\nLocation: https://ibm.ent.box.com/public/static/9afzr83pps4pwf2smjjcf1y5mvgb18rr.csv [following]\n--2020-05-11 17:44:11--  https://ibm.ent.box.com/public/static/9afzr83pps4pwf2smjjcf1y5mvgb18rr.csv\nResolving ibm.ent.box.com (ibm.ent.box.com)... 107.152.26.211\nConnecting to ibm.ent.box.com (ibm.ent.box.com)|107.152.26.211|:443... connected.\nHTTP request sent, awaiting response... 302 Found\nLocation: https://public.boxcloud.com/d/1/b1!2YUcUyC5dnMfHY0tLzNIEG0pXKG3LGrfs-dS8KJ5ISrDHoUWhGqwWaMUCX773o_kAY29ovLu4eK4n8YKVBLAe_4yaEweuLJj1WYw6Hd_Sl8vxVg-iFN9lQEkAtyxlkQ3ls3SMzZKXr1t-Khgtn_u4Ioq8UAJd7WE1fXKSen7yNdi84jRmE-ebd31206yiPZymsl_84OKME-_5DqNAj42aftrEsqpfLwP0Bqj1QRV_u6cU5WtPItj-Ohae7bhJcZl-aQNBR8kqwwQ8_Rjiqco9zBHsGQNgDWRP6rlmle9fntuitOAg_TENBfxyyFF47dgdmtZ8MBMIiGMNZWd06w7tZd4jwlrWHpi8peEc6M3ES1ZfIZCI4s-mjz_mrNc8Q_5W27U5bHv-6xxlepWATj8fQquNDizvIV2Xxt8_vEw9AvdbRTq6n0MChQwk2RF70uNZ40lZyZhkjzvAqSqwvWa3pnDIPFGIVyCBQQX9B5nke4MYQqDkkdBOOzAV-enuAglbDxFzrvQoIuob5I3SFi0t3N6s9qos8OXZwkrZKeZOqoTPLwFDV4vwQ4wwAWIZT9HXi6SYSCc1bUHd1rGm6QUIpYDepVLZsjvNf1u5tZpeIYQne0EWqgcfCXdfJv55PPIcYKvdGtSKSOnmZrnNLmoOFzbJ9GBdt2xOpuKfyzCYJbXEX3CUdllTe_-f5BpsPulHEjJbFRq59Ponuc9pz0bhdF9idtONrZPYrlVK1z4br7C1tNDXT0J6N4WjNvdtFaEluFVwE1fhxdNFHmPId-Gsjkz5JcuIEYMRxPSRAeGyU2A3xDjkiCS8xhXhomSwggedd22oFScypJqyEkp7_REdLwFl59huXiWLbc7LkWFTHwJRCUkH0Klw-Cmxz2ySVdzWMAl_fSVjqOSshPCtgKs31mFAWufc0D5-JI4_YK9cpmYAHzo2P87rllcplHwr-Fcwu5mkx1HHAP7q4Gd8pZWF3V_Un5jmTk0-En9YrL8C-qEmxVK2_XhZPCjCIug-ph7EX5ayrLI7V-f353e1VI-zYRz_RSPeDfi4FbXZ6Sr-c9znwXv0C5nqeieLtnCTOmXM-Cbfd7Ytd4DptOwOOytRuOJZSutDSUsxq5RqA4OjzSfZxBwTHDrG4GDVB9EAuzs8tIuRqETxHXYdyE8sMAvZXwaOErAIgu6lO7JVBOkIqWP5ZQzQgX2t27-i61coRmILFjtIfG-Q3fFwUfE3CcWJ0wyRzaPMt4IfUZfLKVxjbT46PQP8gSE0blfFneiFngMBFzScdj1ILoOqpceQoV1EXAMlf6avroW4M7zh29AZCa0vuoP5vSCgtOrWNHprA8bHV4sbc5Ljgka4obL-_laOHQdiCb6lxU47hr1yvwEFHWLxwFPJiw_Xbblpv2eH_bPBCN_QENCGLQsgJgmnwdg-JRk9zSJ4qxAgxCVuzs4e17S/download [following]\n--2020-05-11 17:44:11--  https://public.boxcloud.com/d/1/b1!2YUcUyC5dnMfHY0tLzNIEG0pXKG3LGrfs-dS8KJ5ISrDHoUWhGqwWaMUCX773o_kAY29ovLu4eK4n8YKVBLAe_4yaEweuLJj1WYw6Hd_Sl8vxVg-iFN9lQEkAtyxlkQ3ls3SMzZKXr1t-Khgtn_u4Ioq8UAJd7WE1fXKSen7yNdi84jRmE-ebd31206yiPZymsl_84OKME-_5DqNAj42aftrEsqpfLwP0Bqj1QRV_u6cU5WtPItj-Ohae7bhJcZl-aQNBR8kqwwQ8_Rjiqco9zBHsGQNgDWRP6rlmle9fntuitOAg_TENBfxyyFF47dgdmtZ8MBMIiGMNZWd06w7tZd4jwlrWHpi8peEc6M3ES1ZfIZCI4s-mjz_mrNc8Q_5W27U5bHv-6xxlepWATj8fQquNDizvIV2Xxt8_vEw9AvdbRTq6n0MChQwk2RF70uNZ40lZyZhkjzvAqSqwvWa3pnDIPFGIVyCBQQX9B5nke4MYQqDkkdBOOzAV-enuAglbDxFzrvQoIuob5I3SFi0t3N6s9qos8OXZwkrZKeZOqoTPLwFDV4vwQ4wwAWIZT9HXi6SYSCc1bUHd1rGm6QUIpYDepVLZsjvNf1u5tZpeIYQne0EWqgcfCXdfJv55PPIcYKvdGtSKSOnmZrnNLmoOFzbJ9GBdt2xOpuKfyzCYJbXEX3CUdllTe_-f5BpsPulHEjJbFRq59Ponuc9pz0bhdF9idtONrZPYrlVK1z4br7C1tNDXT0J6N4WjNvdtFaEluFVwE1fhxdNFHmPId-Gsjkz5JcuIEYMRxPSRAeGyU2A3xDjkiCS8xhXhomSwggedd22oFScypJqyEkp7_REdLwFl59huXiWLbc7LkWFTHwJRCUkH0Klw-Cmxz2ySVdzWMAl_fSVjqOSshPCtgKs31mFAWufc0D5-JI4_YK9cpmYAHzo2P87rllcplHwr-Fcwu5mkx1HHAP7q4Gd8pZWF3V_Un5jmTk0-En9YrL8C-qEmxVK2_XhZPCjCIug-ph7EX5ayrLI7V-f353e1VI-zYRz_RSPeDfi4FbXZ6Sr-c9znwXv0C5nqeieLtnCTOmXM-Cbfd7Ytd4DptOwOOytRuOJZSutDSUsxq5RqA4OjzSfZxBwTHDrG4GDVB9EAuzs8tIuRqETxHXYdyE8sMAvZXwaOErAIgu6lO7JVBOkIqWP5ZQzQgX2t27-i61coRmILFjtIfG-Q3fFwUfE3CcWJ0wyRzaPMt4IfUZfLKVxjbT46PQP8gSE0blfFneiFngMBFzScdj1ILoOqpceQoV1EXAMlf6avroW4M7zh29AZCa0vuoP5vSCgtOrWNHprA8bHV4sbc5Ljgka4obL-_laOHQdiCb6lxU47hr1yvwEFHWLxwFPJiw_Xbblpv2eH_bPBCN_QENCGLQsgJgmnwdg-JRk9zSJ4qxAgxCVuzs4e17S/download\nResolving public.boxcloud.com (public.boxcloud.com)... 107.152.26.200\nConnecting to public.boxcloud.com (public.boxcloud.com)|107.152.26.200|:443... connected.\nHTTP request sent, awaiting response... 200 OK\nLength: 2891 (2.8K) [text/csv]\nSaving to: \u2018GeoCord.csv\u2019\n\n100%[======================================>] 2,891       --.-K/s   in 0s      \n\n2020-05-11 17:44:12 (281 MB/s) - \u2018GeoCord.csv\u2019 saved [2891/2891]\n\n"
                }
            ],
            "source": "\n# Since it is not able to obtain coordinates from using geocoder.google, the given csv file is used\n!wget -O GeoCord.csv http://cocl.us/Geospatial_data/\n\n    "
        },
        {
            "cell_type": "code",
            "execution_count": 7,
            "metadata": {},
            "outputs": [
                {
                    "data": {
                        "text/html": "<div>\n<style scoped>\n    .dataframe tbody tr th:only-of-type {\n        vertical-align: middle;\n    }\n\n    .dataframe tbody tr th {\n        vertical-align: top;\n    }\n\n    .dataframe thead th {\n        text-align: right;\n    }\n</style>\n<table border=\"1\" class=\"dataframe\">\n  <thead>\n    <tr style=\"text-align: right;\">\n      <th></th>\n      <th>Postal Code</th>\n      <th>Latitude</th>\n      <th>Longitude</th>\n    </tr>\n  </thead>\n  <tbody>\n    <tr>\n      <th>0</th>\n      <td>M1B</td>\n      <td>43.806686</td>\n      <td>-79.194353</td>\n    </tr>\n    <tr>\n      <th>1</th>\n      <td>M1C</td>\n      <td>43.784535</td>\n      <td>-79.160497</td>\n    </tr>\n    <tr>\n      <th>2</th>\n      <td>M1E</td>\n      <td>43.763573</td>\n      <td>-79.188711</td>\n    </tr>\n    <tr>\n      <th>3</th>\n      <td>M1G</td>\n      <td>43.770992</td>\n      <td>-79.216917</td>\n    </tr>\n    <tr>\n      <th>4</th>\n      <td>M1H</td>\n      <td>43.773136</td>\n      <td>-79.239476</td>\n    </tr>\n  </tbody>\n</table>\n</div>",
                        "text/plain": "  Postal Code   Latitude  Longitude\n0         M1B  43.806686 -79.194353\n1         M1C  43.784535 -79.160497\n2         M1E  43.763573 -79.188711\n3         M1G  43.770992 -79.216917\n4         M1H  43.773136 -79.239476"
                    },
                    "execution_count": 7,
                    "metadata": {},
                    "output_type": "execute_result"
                }
            ],
            "source": "df_cord = pd.read_csv('GeoCord.csv') # Read the csv data\ndf_cord.head()"
        },
        {
            "cell_type": "code",
            "execution_count": 10,
            "metadata": {},
            "outputs": [
                {
                    "data": {
                        "text/html": "<div>\n<style scoped>\n    .dataframe tbody tr th:only-of-type {\n        vertical-align: middle;\n    }\n\n    .dataframe tbody tr th {\n        vertical-align: top;\n    }\n\n    .dataframe thead th {\n        text-align: right;\n    }\n</style>\n<table border=\"1\" class=\"dataframe\">\n  <thead>\n    <tr style=\"text-align: right;\">\n      <th></th>\n      <th>Postal Code</th>\n      <th>Borough</th>\n      <th>Neighborhood</th>\n      <th>Latitude</th>\n      <th>Longitude</th>\n    </tr>\n  </thead>\n  <tbody>\n    <tr>\n      <th>0</th>\n      <td>M1B</td>\n      <td>Scarborough</td>\n      <td>Malvern, Rouge</td>\n      <td>43.806686</td>\n      <td>-79.194353</td>\n    </tr>\n    <tr>\n      <th>1</th>\n      <td>M1C</td>\n      <td>Scarborough</td>\n      <td>Rouge Hill, Port Union, Highland Creek</td>\n      <td>43.784535</td>\n      <td>-79.160497</td>\n    </tr>\n    <tr>\n      <th>2</th>\n      <td>M1E</td>\n      <td>Scarborough</td>\n      <td>Guildwood, Morningside, West Hill</td>\n      <td>43.763573</td>\n      <td>-79.188711</td>\n    </tr>\n    <tr>\n      <th>3</th>\n      <td>M1G</td>\n      <td>Scarborough</td>\n      <td>Woburn</td>\n      <td>43.770992</td>\n      <td>-79.216917</td>\n    </tr>\n    <tr>\n      <th>4</th>\n      <td>M1H</td>\n      <td>Scarborough</td>\n      <td>Cedarbrae</td>\n      <td>43.773136</td>\n      <td>-79.239476</td>\n    </tr>\n    <tr>\n      <th>5</th>\n      <td>M1J</td>\n      <td>Scarborough</td>\n      <td>Scarborough Village</td>\n      <td>43.744734</td>\n      <td>-79.239476</td>\n    </tr>\n    <tr>\n      <th>6</th>\n      <td>M1K</td>\n      <td>Scarborough</td>\n      <td>Kennedy Park, Ionview, East Birchmount Park</td>\n      <td>43.727929</td>\n      <td>-79.262029</td>\n    </tr>\n    <tr>\n      <th>7</th>\n      <td>M1L</td>\n      <td>Scarborough</td>\n      <td>Golden Mile, Clairlea, Oakridge</td>\n      <td>43.711112</td>\n      <td>-79.284577</td>\n    </tr>\n    <tr>\n      <th>8</th>\n      <td>M1M</td>\n      <td>Scarborough</td>\n      <td>Cliffside, Cliffcrest, Scarborough Village West</td>\n      <td>43.716316</td>\n      <td>-79.239476</td>\n    </tr>\n    <tr>\n      <th>9</th>\n      <td>M1N</td>\n      <td>Scarborough</td>\n      <td>Birch Cliff, Cliffside West</td>\n      <td>43.692657</td>\n      <td>-79.264848</td>\n    </tr>\n    <tr>\n      <th>10</th>\n      <td>M1P</td>\n      <td>Scarborough</td>\n      <td>Dorset Park, Wexford Heights, Scarborough Town...</td>\n      <td>43.757410</td>\n      <td>-79.273304</td>\n    </tr>\n    <tr>\n      <th>11</th>\n      <td>M1R</td>\n      <td>Scarborough</td>\n      <td>Wexford, Maryvale</td>\n      <td>43.750072</td>\n      <td>-79.295849</td>\n    </tr>\n    <tr>\n      <th>12</th>\n      <td>M1S</td>\n      <td>Scarborough</td>\n      <td>Agincourt</td>\n      <td>43.794200</td>\n      <td>-79.262029</td>\n    </tr>\n    <tr>\n      <th>13</th>\n      <td>M1T</td>\n      <td>Scarborough</td>\n      <td>Clarks Corners, Tam O'Shanter, Sullivan</td>\n      <td>43.781638</td>\n      <td>-79.304302</td>\n    </tr>\n    <tr>\n      <th>14</th>\n      <td>M1V</td>\n      <td>Scarborough</td>\n      <td>Milliken, Agincourt North, Steeles East, L'Amo...</td>\n      <td>43.815252</td>\n      <td>-79.284577</td>\n    </tr>\n    <tr>\n      <th>15</th>\n      <td>M1W</td>\n      <td>Scarborough</td>\n      <td>Steeles West, L'Amoreaux West</td>\n      <td>43.799525</td>\n      <td>-79.318389</td>\n    </tr>\n    <tr>\n      <th>16</th>\n      <td>M1X</td>\n      <td>Scarborough</td>\n      <td>Upper Rouge</td>\n      <td>43.836125</td>\n      <td>-79.205636</td>\n    </tr>\n    <tr>\n      <th>17</th>\n      <td>M2H</td>\n      <td>North York</td>\n      <td>Hillcrest Village</td>\n      <td>43.803762</td>\n      <td>-79.363452</td>\n    </tr>\n    <tr>\n      <th>18</th>\n      <td>M2J</td>\n      <td>North York</td>\n      <td>Fairview, Henry Farm, Oriole</td>\n      <td>43.778517</td>\n      <td>-79.346556</td>\n    </tr>\n    <tr>\n      <th>19</th>\n      <td>M2K</td>\n      <td>North York</td>\n      <td>Bayview Village</td>\n      <td>43.786947</td>\n      <td>-79.385975</td>\n    </tr>\n  </tbody>\n</table>\n</div>",
                        "text/plain": "   Postal Code      Borough  \\\n0          M1B  Scarborough   \n1          M1C  Scarborough   \n2          M1E  Scarborough   \n3          M1G  Scarborough   \n4          M1H  Scarborough   \n5          M1J  Scarborough   \n6          M1K  Scarborough   \n7          M1L  Scarborough   \n8          M1M  Scarborough   \n9          M1N  Scarborough   \n10         M1P  Scarborough   \n11         M1R  Scarborough   \n12         M1S  Scarborough   \n13         M1T  Scarborough   \n14         M1V  Scarborough   \n15         M1W  Scarborough   \n16         M1X  Scarborough   \n17         M2H   North York   \n18         M2J   North York   \n19         M2K   North York   \n\n                                         Neighborhood   Latitude  Longitude  \n0                                      Malvern, Rouge  43.806686 -79.194353  \n1              Rouge Hill, Port Union, Highland Creek  43.784535 -79.160497  \n2                   Guildwood, Morningside, West Hill  43.763573 -79.188711  \n3                                              Woburn  43.770992 -79.216917  \n4                                           Cedarbrae  43.773136 -79.239476  \n5                                 Scarborough Village  43.744734 -79.239476  \n6         Kennedy Park, Ionview, East Birchmount Park  43.727929 -79.262029  \n7                     Golden Mile, Clairlea, Oakridge  43.711112 -79.284577  \n8     Cliffside, Cliffcrest, Scarborough Village West  43.716316 -79.239476  \n9                         Birch Cliff, Cliffside West  43.692657 -79.264848  \n10  Dorset Park, Wexford Heights, Scarborough Town...  43.757410 -79.273304  \n11                                  Wexford, Maryvale  43.750072 -79.295849  \n12                                          Agincourt  43.794200 -79.262029  \n13            Clarks Corners, Tam O'Shanter, Sullivan  43.781638 -79.304302  \n14  Milliken, Agincourt North, Steeles East, L'Amo...  43.815252 -79.284577  \n15                      Steeles West, L'Amoreaux West  43.799525 -79.318389  \n16                                        Upper Rouge  43.836125 -79.205636  \n17                                  Hillcrest Village  43.803762 -79.363452  \n18                       Fairview, Henry Farm, Oriole  43.778517 -79.346556  \n19                                    Bayview Village  43.786947 -79.385975  "
                    },
                    "execution_count": 10,
                    "metadata": {},
                    "output_type": "execute_result"
                }
            ],
            "source": "# Create Latitude and Longitude columns in df_assigned\ndf['Latitude'] = np.nan\ndf['Longitude'] = np.nan\n\n# For each postcode in df, find corresponding coordinates in df_cord and assign it to df_assigned\nfor idx in df.index:\n    cord_idx = df_cord['Postal Code'] == df.loc[idx, 'Postal Code']\n    df.at[idx, 'Latitude'] = df_cord.loc[cord_idx, 'Latitude'].values\n    df.at[idx, 'Longitude'] = df_cord.loc[cord_idx, 'Longitude'].values\n\n# Display the results\ndf.head(20)"
        },
        {
            "cell_type": "code",
            "execution_count": null,
            "metadata": {},
            "outputs": [],
            "source": ""
        }
    ],
    "metadata": {
        "kernelspec": {
            "display_name": "Python 3.6",
            "language": "python",
            "name": "python3"
        },
        "language_info": {
            "codemirror_mode": {
                "name": "ipython",
                "version": 3
            },
            "file_extension": ".py",
            "mimetype": "text/x-python",
            "name": "python",
            "nbconvert_exporter": "python",
            "pygments_lexer": "ipython3",
            "version": "3.6.9"
        }
    },
    "nbformat": 4,
    "nbformat_minor": 1
}